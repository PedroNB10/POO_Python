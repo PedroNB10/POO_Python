{
 "cells": [
  {
   "attachments": {},
   "cell_type": "markdown",
   "metadata": {},
   "source": [
    "## Dicionário\n",
    "Dicionário é uma estrutura de dados que pode ser útil quando é necessário encontrar valores associados a chaves. Por exemplo, suponha que se deseja obter o idioma principal falado em um país, e que essa informação esteja disponível para todos os países do globo. Para tanto, a melhor solução é criar um dicionário cuja chave é o nome do país e o valor é o idioma falado naquele país."
   ]
  },
  {
   "cell_type": "code",
   "execution_count": 22,
   "metadata": {},
   "outputs": [],
   "source": [
    "dic = {'Brasi':'português', 'EUA':'inglês', 'México':'espanhol', 'França':'francês', 'Egito':'árabe'}"
   ]
  },
  {
   "attachments": {},
   "cell_type": "markdown",
   "metadata": {},
   "source": [
    "Qual o idioma falado no Egito?"
   ]
  },
  {
   "cell_type": "code",
   "execution_count": 23,
   "metadata": {},
   "outputs": [
    {
     "data": {
      "text/plain": [
       "'inglês'"
      ]
     },
     "execution_count": 23,
     "metadata": {},
     "output_type": "execute_result"
    }
   ],
   "source": [
    "chave = 'EUA'\n",
    "dic[chave]"
   ]
  },
  {
   "attachments": {},
   "cell_type": "markdown",
   "metadata": {},
   "source": [
    "É possível obter o valor de todas as chaves e de todos os itens de um dicionário, usando os métodos keys() e items()."
   ]
  },
  {
   "cell_type": "code",
   "execution_count": 17,
   "metadata": {},
   "outputs": [
    {
     "data": {
      "text/plain": [
       "dict_keys(['Brasil', 'EUA', 'México', 'França', 'Egito'])"
      ]
     },
     "execution_count": 17,
     "metadata": {},
     "output_type": "execute_result"
    }
   ],
   "source": [
    "dic.keys()\n"
   ]
  },
  {
   "cell_type": "code",
   "execution_count": 18,
   "metadata": {},
   "outputs": [
    {
     "data": {
      "text/plain": [
       "dict_values(['português', 'inglês', 'espanhol', 'francês', 'árabe'])"
      ]
     },
     "execution_count": 18,
     "metadata": {},
     "output_type": "execute_result"
    }
   ],
   "source": [
    "dic.values()"
   ]
  },
  {
   "cell_type": "code",
   "execution_count": 19,
   "metadata": {},
   "outputs": [
    {
     "data": {
      "text/plain": [
       "dict_items([('Brasil', 'português'), ('EUA', 'inglês'), ('México', 'espanhol'), ('França', 'francês'), ('Egito', 'árabe')])"
      ]
     },
     "execution_count": 19,
     "metadata": {},
     "output_type": "execute_result"
    }
   ],
   "source": [
    "dic.items()"
   ]
  },
  {
   "attachments": {},
   "cell_type": "markdown",
   "metadata": {},
   "source": [
    "Existem ainda os tipos de dado tupla e set. \\\n",
    "Tupla é uma lista imutável. \n",
    "Exemplo: t = (1, 2, 3)"
   ]
  },
  {
   "attachments": {},
   "cell_type": "markdown",
   "metadata": {},
   "source": [
    "Set é um tipo de lista que não permite repetição de elementos. Ainda que se crie um set com elementos repetidos, esses serão removidos e o set ficará apenas com elementos únicos. Exemplo: \\\n",
    "s = {1, 3, 3, 6, 7, 1}"
   ]
  },
  {
   "cell_type": "code",
   "execution_count": 26,
   "metadata": {},
   "outputs": [
    {
     "name": "stdout",
     "output_type": "stream",
     "text": [
      "{1, 3, 6, 7, 9}\n"
     ]
    }
   ],
   "source": [
    "s = {1, 3, 3, 6, 7, 1}\n",
    "s.add(9)\n",
    "print(s)"
   ]
  },
  {
   "attachments": {},
   "cell_type": "markdown",
   "metadata": {},
   "source": [
    "Exercício \\\n",
    "Crie um dicionário contendo os seguintes nomes e números de telefone: \\\n",
    "Pedro - 11111 1111 \\\n",
    "Ana - 22222 2222 \\\n",
    "Joel - 33333 3333 \\\n",
    "Maria - 44444 4444 \\\n",
    "Caio - 55555 5555 \\\n",
    "Em seguida: \\\n",
    "A. Informe o telefone do Joel \\\n",
    "B. Leia um nome, verifique se consta no dicionário. Em caso afirmativo, informe seu telefone"
   ]
  },
  {
   "cell_type": "code",
   "execution_count": 36,
   "metadata": {},
   "outputs": [
    {
     "data": {
      "text/plain": [
       "'33333 3333'"
      ]
     },
     "execution_count": 36,
     "metadata": {},
     "output_type": "execute_result"
    }
   ],
   "source": [
    "dic = {\n",
    "       'Pedro':'11111 1111', \n",
    "       'Ana':'22222 2222', \n",
    "       'Joel':'33333 3333', \n",
    "       'Maria':'44444 4444', \n",
    "       'Caio':'55555 5555'\n",
    "       }\n",
    "dic['Joel']\n"
   ]
  },
  {
   "cell_type": "code",
   "execution_count": 39,
   "metadata": {},
   "outputs": [
    {
     "name": "stdout",
     "output_type": "stream",
     "text": [
      "Telefone do Pedro: 11111 1111\n"
     ]
    }
   ],
   "source": [
    "nome = input()\n",
    "\n",
    "# if nome in  dic  // Também funciona !!!\n",
    "if nome in dic.keys():\n",
    "    print(f'Telefone do {nome}: {dic[nome]}')"
   ]
  }
 ],
 "metadata": {
  "kernelspec": {
   "display_name": "base",
   "language": "python",
   "name": "python3"
  },
  "language_info": {
   "codemirror_mode": {
    "name": "ipython",
    "version": 3
   },
   "file_extension": ".py",
   "mimetype": "text/x-python",
   "name": "python",
   "nbconvert_exporter": "python",
   "pygments_lexer": "ipython3",
   "version": "3.10.12"
  },
  "orig_nbformat": 4,
  "vscode": {
   "interpreter": {
    "hash": "375cb2be7c48c11bb855aa4c37dc6c17bef886eb77cae35fc21e121628c6e1e2"
   }
  }
 },
 "nbformat": 4,
 "nbformat_minor": 2
}
